{
  "cells": [
    {
      "cell_type": "markdown",
      "metadata": {
        "id": "view-in-github",
        "colab_type": "text"
      },
      "source": [
        "<a href=\"https://colab.research.google.com/github/Shubhankar10/KDAG-Model/blob/main/KGP1CSS.ipynb\" target=\"_parent\"><img src=\"https://colab.research.google.com/assets/colab-badge.svg\" alt=\"Open In Colab\"/></a>"
      ]
    },
    {
      "cell_type": "markdown",
      "metadata": {
        "id": "UJe024EVfMI9"
      },
      "source": [
        "**KDAG**   *Hackathon Tasks*\n",
        "\n",
        "\n",
        "> Shubhankar Tiwary\n",
        "\n",
        "> Saurabh Yadav \n",
        "\n",
        "> Chaitanya Rao\n",
        "\n",
        "\n",
        "\n",
        "\n"
      ]
    },
    {
      "cell_type": "markdown",
      "source": [
        "Predict Best channel for physicians unsing given data"
      ],
      "metadata": {
        "id": "E43VVqVfWqzq"
      }
    },
    {
      "cell_type": "markdown",
      "source": [
        "### ***Get Data***"
      ],
      "metadata": {
        "id": "0fbbKqPixApj"
      }
    },
    {
      "cell_type": "code",
      "execution_count": null,
      "metadata": {
        "id": "8mtgACM2Wg7D"
      },
      "outputs": [],
      "source": [
        "!pip install kaggle"
      ]
    },
    {
      "cell_type": "code",
      "execution_count": null,
      "metadata": {
        "id": "HBt3TGNBhZzp"
      },
      "outputs": [],
      "source": [
        "from pydrive.auth import GoogleAuth\n",
        "from pydrive.drive import GoogleDrive\n",
        "from google.colab import auth\n",
        "from oauth2client.client import GoogleCredentials\n",
        "# Authenticate and create the PyDrive client.\n",
        "auth.authenticate_user()\n",
        "gauth = GoogleAuth()\n",
        "gauth.credentials = GoogleCredentials.get_application_default()\n",
        "drive = GoogleDrive(gauth)\n",
        "id = \"1geQKwlJDGB9WiKK8YR6H2-8HFDhlvdZX\"\n",
        "downloaded = drive.CreateFile({'id':id})\n",
        "downloaded.GetContentFile('kaggle.json')"
      ]
    },
    {
      "cell_type": "code",
      "execution_count": null,
      "metadata": {
        "id": "YdojNe5CWq9w"
      },
      "outputs": [],
      "source": [
        "! mkdir ~/.kaggle"
      ]
    },
    {
      "cell_type": "code",
      "execution_count": null,
      "metadata": {
        "id": "qqIe81HtWvPl"
      },
      "outputs": [],
      "source": [
        "! cp kaggle.json ~/.kaggle/"
      ]
    },
    {
      "cell_type": "code",
      "execution_count": null,
      "metadata": {
        "id": "yoBkhd6SWv5m"
      },
      "outputs": [],
      "source": [
        "! chmod 600 ~/.kaggle/kaggle.json"
      ]
    },
    {
      "cell_type": "code",
      "execution_count": null,
      "metadata": {
        "id": "ewJ8579gY7kx"
      },
      "outputs": [],
      "source": [
        "! kaggle competitions download -c kdsh-data-solution-task-1"
      ]
    },
    {
      "cell_type": "code",
      "execution_count": null,
      "metadata": {
        "id": "H9KsBaHZZRvf"
      },
      "outputs": [],
      "source": [
        "! unzip kdsh-data-solution-task-1.zip"
      ]
    },
    {
      "cell_type": "code",
      "execution_count": null,
      "metadata": {
        "id": "BNXDfwhVjPgw"
      },
      "outputs": [],
      "source": [
        "import json\n",
        "import numpy as np\n",
        "import pandas as pd\n",
        "import datetime\n",
        "from prophet import Prophet\n",
        "import matplotlib.pyplot as plt"
      ]
    },
    {
      "cell_type": "markdown",
      "source": [
        "Read Data"
      ],
      "metadata": {
        "id": "WnSH_NrTxOnm"
      }
    },
    {
      "cell_type": "code",
      "execution_count": null,
      "metadata": {
        "id": "E-8oVookjTz-"
      },
      "outputs": [],
      "source": [
        "hcp = pd.read_excel('/content/HCP_Data_KDAG_Hackathon/HCP_Data_KDAG_Hackathon.xlsx')\n",
        "# patient = pd.read_excel('/content/Patient_Data_KDAG_Hackathon/Patient_Data_KDAG_Hackathon.xlsx')\n",
        "# print(hcp.head())\n",
        "# print(patient.head())"
      ]
    },
    {
      "cell_type": "code",
      "execution_count": null,
      "metadata": {
        "id": "STiUEN9Ekt32"
      },
      "outputs": [],
      "source": [
        "print('Length of HCP: ',len(hcp))"
      ]
    },
    {
      "cell_type": "markdown",
      "source": [
        "### **DataFrame**\n"
      ],
      "metadata": {
        "id": "zpNnj2fdxTji"
      }
    },
    {
      "cell_type": "code",
      "execution_count": null,
      "metadata": {
        "id": "xATawVjpjPts"
      },
      "outputs": [],
      "source": [
        "data = pd.DataFrame({\n",
        "  'Physician_ID' : hcp['Physician_ID'],\n",
        "  'Brand_Rx' : hcp['Brand_Rx'],\n",
        "  'Sales_Rep_Calls' : hcp['Sales_Rep_Calls'],\n",
        "  'Samples_Dropped' : hcp['Samples_Dropped'],\n",
        "  'Emails_Delivered' : hcp['Emails_Delivered'],\n",
        "  'Time_Period' : hcp['Time_Period'],\n",
        "  'Physician_Segment' : hcp['Physician_Segment'],\n",
        "})\n"
      ]
    },
    {
      "cell_type": "code",
      "execution_count": null,
      "metadata": {
        "id": "_SflbmghI90n"
      },
      "outputs": [],
      "source": [
        "''' Change Non Zero to One '''\n",
        "\n",
        "# where mai False hai toh value swap hogi, .mask mai true hai toh swap hogi\n",
        "data['Sales_Rep_Calls'] = data['Sales_Rep_Calls'].where(data['Sales_Rep_Calls']<=0,1)\n",
        "data['Samples_Dropped'] = data['Samples_Dropped'].where(data['Samples_Dropped']<=0,1)\n",
        "data['Emails_Delivered'] = data['Emails_Delivered'].where(data['Emails_Delivered']<=0,1)\n"
      ]
    },
    {
      "cell_type": "code",
      "execution_count": null,
      "metadata": {
        "id": "xaOk1F9Bxjad"
      },
      "outputs": [],
      "source": [
        "''' Replace Physician Segment '''\n",
        "\n",
        "data = data.replace('3-Low',3)\n",
        "data = data.replace('2-Medium',2)\n",
        "data = data.replace('1-High',1)\n",
        "data['Physician_Segment'] = data['Physician_Segment'].apply(pd.to_numeric)\n",
        "data.sort_values(by=['Time_Period'])"
      ]
    },
    {
      "cell_type": "code",
      "execution_count": null,
      "metadata": {
        "id": "5VahnIIqz6gD"
      },
      "outputs": [],
      "source": [
        "''' Convert Date Format '''\n",
        "\n",
        "data['Time_Period'] = pd.to_datetime(data['Time_Period'], format='%Y%m%d')"
      ]
    },
    {
      "cell_type": "code",
      "execution_count": null,
      "metadata": {
        "id": "H7UfkGX1OHbt"
      },
      "outputs": [],
      "source": [
        "''' Multiply BrandRX '''\n",
        "\n",
        "model_data = pd.DataFrame({\n",
        "  'Physician_ID' : data['Physician_ID'],\n",
        "  'Time_Period' : data['Time_Period'],\n",
        "  'Brand_Rx' : data['Brand_Rx'],\n",
        "  'Sales_Rep_Calls' : data['Sales_Rep_Calls'] * data['Brand_Rx'],\n",
        "  'Samples_Dropped' : data['Samples_Dropped'] * data['Brand_Rx'],\n",
        "  'Emails_Delivered' : data['Emails_Delivered'] * data['Brand_Rx'],\n",
        "})\n"
      ]
    },
    {
      "cell_type": "markdown",
      "source": [
        "### **Model**"
      ],
      "metadata": {
        "id": "hcqA3wpeswDe"
      }
    },
    {
      "cell_type": "code",
      "source": [
        "# Ek baar he run karna iss block ko bas \n",
        "final = pd.DataFrame()\n",
        "Physicians = data[\"Physician_ID\"].unique()\n",
        "Physicians = Physicians[:len(Physicians)//50] # Taking less for trial\n",
        "print(len(Physicians))"
      ],
      "metadata": {
        "id": "rdYFmN3iLawa"
      },
      "execution_count": null,
      "outputs": []
    },
    {
      "cell_type": "code",
      "source": [
        "def Model(df):\n",
        "  model = Prophet(weekly_seasonality=True)\n",
        "  model.fit(df)\n",
        "\n",
        "  future = model.make_future_dataframe(periods=7)\n",
        "  future.tail()\n",
        "\n",
        "  forecast = model.predict(future)\n",
        "  forecast[['ds', 'yhat', 'yhat_lower', 'yhat_upper']].tail()\n",
        "\n",
        "  output = forecast['yhat'].mean()\n",
        "  print('Output : ', forecast['yhat'].mean() )\n",
        "\n",
        "  # fig1 = model.plot(forecast)\n",
        "  # fig2 = model.plot_components(forecast)\n",
        "\n",
        "  return output"
      ],
      "metadata": {
        "id": "_f1lOAh7qhrH"
      },
      "execution_count": null,
      "outputs": []
    },
    {
      "cell_type": "code",
      "execution_count": null,
      "metadata": {
        "id": "fSVl2x9cO41a"
      },
      "outputs": [],
      "source": [
        "# P = ['axt00001']\n",
        "\n",
        "# for i in Physicians :\n",
        "\n",
        "#   print(i)\n",
        "#   individual_data = model_data.loc[(data[\"Physician_ID\"] == i)]\n",
        "\n",
        "#   call_df = pd.DataFrame({\n",
        "#     'Time_Period' : individual_data['Time_Period'],\n",
        "#     'Sales_Rep_Calls' : individual_data['Sales_Rep_Calls'],\n",
        "#   })\n",
        "#   sample_df = pd.DataFrame({\n",
        "#     'Time_Period' : individual_data['Time_Period'],\n",
        "#     'Samples_Dropped' : individual_data['Samples_Dropped'],\n",
        "#   })\n",
        "#   email_df = pd.DataFrame({\n",
        "#     'Time_Period' : individual_data['Time_Period'],\n",
        "#     'Emails_Delivered' : individual_data['Emails_Delivered'],\n",
        "#   })\n",
        "\n",
        "#   call_df.columns = ['ds','y']\n",
        "#   sample_df.columns = ['ds','y']\n",
        "#   email_df.columns = ['ds','y']\n",
        "\n",
        "#   call = Model(call_df)\n",
        "#   sample = Model(sample_df)\n",
        "#   email = Model(email_df)\n",
        "\n",
        "#   L=[]\n",
        "#   L.append(call)\n",
        "#   L.append(sample)\n",
        "#   L.append(email)\n",
        "#   L.sort()\n",
        "#   print(L)\n",
        "#   # call_df.plot(x='ds')\n",
        "#   # email_df.plot(x='ds')\n",
        "#   # sample_df.plot(x='ds')\n",
        "#   # plt.show()\n",
        "\n",
        "#   # Call -> 0\n",
        "#   # Sample -> 1\n",
        "#   # Email -> 2\n",
        "\n",
        "#   # Condition for equal left\n",
        "#   if call > email and call  > sample :\n",
        "#     if email > sample :\n",
        "#       second_best = 2\n",
        "#     else :\n",
        "#       second_best =1\n",
        "#     best = 0\n",
        "#   elif sample > email :\n",
        "#     if email > call :\n",
        "#       second_best = 2\n",
        "#     else :\n",
        "#       second_best = 0\n",
        "#     best = 1\n",
        "#   else :\n",
        "#     if call > sample :\n",
        "#       second_best = 0\n",
        "#     else :\n",
        "#       second_best = 1\n",
        "#     best = 2\n",
        "\n",
        "#   fin = pd.DataFrame({\n",
        "#       'HCP' : i,\n",
        "#       'Call' :  call,\n",
        "#       'Sample' : sample,\n",
        "#       'Email' : email,\n",
        "#       'Best_ch' : best,\n",
        "#       'SecondBest' : second_best,\n",
        "#       'Max' : L[2],\n",
        "#       'SecondMax' : L[1],\n",
        "#   }, index=[0])\n",
        "\n",
        "#   print(fin)\n",
        "\n",
        "#   final = final.append(fin)\n"
      ]
    },
    {
      "cell_type": "code",
      "source": [
        "# Call -> 0\n",
        "# Sample -> 1\n",
        "# Email -> 2\n",
        "final"
      ],
      "metadata": {
        "id": "bDt-6p3ZXQh0",
        "colab": {
          "base_uri": "https://localhost:8080/",
          "height": 49
        },
        "outputId": "1cfa42ab-b6b9-4a00-b8ca-976f483fe6b6"
      },
      "execution_count": null,
      "outputs": [
        {
          "output_type": "execute_result",
          "data": {
            "text/plain": [
              "Empty DataFrame\n",
              "Columns: []\n",
              "Index: []"
            ],
            "text/html": [
              "\n",
              "  <div id=\"df-55ae273a-c624-4706-9c94-e7317501ffd5\">\n",
              "    <div class=\"colab-df-container\">\n",
              "      <div>\n",
              "<style scoped>\n",
              "    .dataframe tbody tr th:only-of-type {\n",
              "        vertical-align: middle;\n",
              "    }\n",
              "\n",
              "    .dataframe tbody tr th {\n",
              "        vertical-align: top;\n",
              "    }\n",
              "\n",
              "    .dataframe thead th {\n",
              "        text-align: right;\n",
              "    }\n",
              "</style>\n",
              "<table border=\"1\" class=\"dataframe\">\n",
              "  <thead>\n",
              "    <tr style=\"text-align: right;\">\n",
              "      <th></th>\n",
              "    </tr>\n",
              "  </thead>\n",
              "  <tbody>\n",
              "  </tbody>\n",
              "</table>\n",
              "</div>\n",
              "      <button class=\"colab-df-convert\" onclick=\"convertToInteractive('df-55ae273a-c624-4706-9c94-e7317501ffd5')\"\n",
              "              title=\"Convert this dataframe to an interactive table.\"\n",
              "              style=\"display:none;\">\n",
              "        \n",
              "  <svg xmlns=\"http://www.w3.org/2000/svg\" height=\"24px\"viewBox=\"0 0 24 24\"\n",
              "       width=\"24px\">\n",
              "    <path d=\"M0 0h24v24H0V0z\" fill=\"none\"/>\n",
              "    <path d=\"M18.56 5.44l.94 2.06.94-2.06 2.06-.94-2.06-.94-.94-2.06-.94 2.06-2.06.94zm-11 1L8.5 8.5l.94-2.06 2.06-.94-2.06-.94L8.5 2.5l-.94 2.06-2.06.94zm10 10l.94 2.06.94-2.06 2.06-.94-2.06-.94-.94-2.06-.94 2.06-2.06.94z\"/><path d=\"M17.41 7.96l-1.37-1.37c-.4-.4-.92-.59-1.43-.59-.52 0-1.04.2-1.43.59L10.3 9.45l-7.72 7.72c-.78.78-.78 2.05 0 2.83L4 21.41c.39.39.9.59 1.41.59.51 0 1.02-.2 1.41-.59l7.78-7.78 2.81-2.81c.8-.78.8-2.07 0-2.86zM5.41 20L4 18.59l7.72-7.72 1.47 1.35L5.41 20z\"/>\n",
              "  </svg>\n",
              "      </button>\n",
              "      \n",
              "  <style>\n",
              "    .colab-df-container {\n",
              "      display:flex;\n",
              "      flex-wrap:wrap;\n",
              "      gap: 12px;\n",
              "    }\n",
              "\n",
              "    .colab-df-convert {\n",
              "      background-color: #E8F0FE;\n",
              "      border: none;\n",
              "      border-radius: 50%;\n",
              "      cursor: pointer;\n",
              "      display: none;\n",
              "      fill: #1967D2;\n",
              "      height: 32px;\n",
              "      padding: 0 0 0 0;\n",
              "      width: 32px;\n",
              "    }\n",
              "\n",
              "    .colab-df-convert:hover {\n",
              "      background-color: #E2EBFA;\n",
              "      box-shadow: 0px 1px 2px rgba(60, 64, 67, 0.3), 0px 1px 3px 1px rgba(60, 64, 67, 0.15);\n",
              "      fill: #174EA6;\n",
              "    }\n",
              "\n",
              "    [theme=dark] .colab-df-convert {\n",
              "      background-color: #3B4455;\n",
              "      fill: #D2E3FC;\n",
              "    }\n",
              "\n",
              "    [theme=dark] .colab-df-convert:hover {\n",
              "      background-color: #434B5C;\n",
              "      box-shadow: 0px 1px 3px 1px rgba(0, 0, 0, 0.15);\n",
              "      filter: drop-shadow(0px 1px 2px rgba(0, 0, 0, 0.3));\n",
              "      fill: #FFFFFF;\n",
              "    }\n",
              "  </style>\n",
              "\n",
              "      <script>\n",
              "        const buttonEl =\n",
              "          document.querySelector('#df-55ae273a-c624-4706-9c94-e7317501ffd5 button.colab-df-convert');\n",
              "        buttonEl.style.display =\n",
              "          google.colab.kernel.accessAllowed ? 'block' : 'none';\n",
              "\n",
              "        async function convertToInteractive(key) {\n",
              "          const element = document.querySelector('#df-55ae273a-c624-4706-9c94-e7317501ffd5');\n",
              "          const dataTable =\n",
              "            await google.colab.kernel.invokeFunction('convertToInteractive',\n",
              "                                                     [key], {});\n",
              "          if (!dataTable) return;\n",
              "\n",
              "          const docLinkHtml = 'Like what you see? Visit the ' +\n",
              "            '<a target=\"_blank\" href=https://colab.research.google.com/notebooks/data_table.ipynb>data table notebook</a>'\n",
              "            + ' to learn more about interactive tables.';\n",
              "          element.innerHTML = '';\n",
              "          dataTable['output_type'] = 'display_data';\n",
              "          await google.colab.output.renderOutput(dataTable, element);\n",
              "          const docLink = document.createElement('div');\n",
              "          docLink.innerHTML = docLinkHtml;\n",
              "          element.appendChild(docLink);\n",
              "        }\n",
              "      </script>\n",
              "    </div>\n",
              "  </div>\n",
              "  "
            ]
          },
          "metadata": {},
          "execution_count": 23
        }
      ]
    },
    {
      "cell_type": "markdown",
      "source": [
        "### **Final Dataset**"
      ],
      "metadata": {
        "id": "OlP5q5Kn6Mkm"
      }
    },
    {
      "cell_type": "code",
      "source": [
        "''' import trained data '''\n",
        "from google.colab import files\n",
        "\n",
        "id = \"1zpNZg4gJR2i5kqzDqaTDCnHjZerf3K8k\"\n",
        "finalDrive = drive.CreateFile({'id':id})\n",
        "finalDrive.GetContentFile('Final.csv')"
      ],
      "metadata": {
        "id": "Vi0227Wf6T-U"
      },
      "execution_count": null,
      "outputs": []
    },
    {
      "cell_type": "code",
      "source": [
        "final = pd.read_csv('/content/Final.csv')\n",
        "final.sample(5)"
      ],
      "metadata": {
        "id": "XteG20ShC2g_"
      },
      "execution_count": null,
      "outputs": []
    },
    {
      "cell_type": "code",
      "source": [
        "final['SecondMax'] = final[[\"Call\", \"Sample\", \"Email\"]].apply(lambda row: row.nlargest(2).iat[-1], axis=1)\n",
        "final['ThirdMax'] = final[[\"Call\", \"Sample\", \"Email\"]].apply(lambda row: row.nlargest(3).iat[-1], axis=1)\n",
        "final.tail()"
      ],
      "metadata": {
        "id": "_Gzn8yJmN9l-"
      },
      "execution_count": null,
      "outputs": []
    },
    {
      "cell_type": "code",
      "source": [
        "t = {\n",
        "    'Call' : 0,\n",
        "    'Sample' : 1,\n",
        "    'Email' : 2,\n",
        "}"
      ],
      "metadata": {
        "id": "LD4r-6rtR-Bs"
      },
      "execution_count": null,
      "outputs": []
    },
    {
      "cell_type": "code",
      "source": [
        "final['SecondBest'] = final[[\"Call\", \"Sample\", \"Email\"]].apply(lambda row: t[row.nlargest(2).index[-1]], axis=1)\n",
        "final['ThirdBest'] = final[[\"Call\", \"Sample\", \"Email\"]].apply(lambda row: t[row.nlargest(3).index[-1]], axis=1)\n",
        "final.sample(7)"
      ],
      "metadata": {
        "id": "MP-mpu3vPTBt"
      },
      "execution_count": null,
      "outputs": []
    },
    {
      "cell_type": "code",
      "source": [
        "submit = pd.DataFrame({'Physician_ID' : final['HCP'] , 'Channel' : final['Best_ch'],})\n",
        "submitTask2 = pd.DataFrame({'Physician_ID' : final['HCP'] , 'Expected_TRx' : final['Max'],})"
      ],
      "metadata": {
        "id": "ZDlu0AS8DUOG"
      },
      "execution_count": null,
      "outputs": []
    },
    {
      "cell_type": "markdown",
      "source": [
        "## **Output**"
      ],
      "metadata": {
        "id": "l3kISu-us-yC"
      }
    },
    {
      "cell_type": "code",
      "source": [
        "# Constraint 1:\n",
        "# Pure data ka calls uss k segment se zayada nai hona chahiye\n",
        "# Given data se calculate karlo phir predicted mai se jaha jaha 0 hai unn k liye check karo ki\n",
        "#   add karne k baad segment se zyada toh nai hora\n",
        "\n",
        "# Constraint 2:\n",
        "# Predicted data mai se sirf 25% hcp ka best channel Sample hone chahiye\n",
        "# Toh total nikalne k baad jitne jagah 1 hai uska count leke check karna hai\n",
        "\n",
        "# Constraint 3:\n",
        "# Jan last week ka sum BrandRx nikal k predicted vale se compare karo kisi ka bhi +-10% se zayada\n",
        "#   nai hona chahiye teeno Prediction k liye"
      ],
      "metadata": {
        "id": "I5Kqwmr9cyOo"
      },
      "execution_count": null,
      "outputs": []
    },
    {
      "cell_type": "markdown",
      "source": [
        "### **Contraint 3**"
      ],
      "metadata": {
        "id": "7mCYSYnGII0C"
      }
    },
    {
      "cell_type": "code",
      "source": [
        "filtered_df = data.loc[(data['Time_Period'] >= pd.Timestamp(2020,1,24))]\n",
        "F = filtered_df.groupby(['Physician_ID','Physician_Segment','Time_Period'], as_index=False).sum()\n",
        "F = filtered_df.groupby(['Physician_ID','Physician_Segment'], as_index=False).mean()\n",
        "F"
      ],
      "metadata": {
        "id": "3xsmZhmP6WcC"
      },
      "execution_count": null,
      "outputs": []
    },
    {
      "cell_type": "code",
      "source": [
        "def constraint_3(x, s, stop):\n",
        "  pred_brand = x[s]\n",
        "  og_brand = F.loc[F['Physician_ID'].str.contains(x['HCP'])]['Brand_Rx'].iat[-1]\n",
        "  high = og_brand + 0.1 * og_brand\n",
        "  low = og_brand - 0.1 * og_brand\n",
        "  x['Og'] = og_brand\n",
        "  x['high'] = high\n",
        "  x['low'] = low\n",
        "  if low <= pred_brand <= high:\n",
        "    x['out'] = 'Yes'\n",
        "    if s == 'Max':\n",
        "      i = submit.loc[submit['Physician_ID'].str.contains(x['HCP'])].index\n",
        "      submit.iat[i[0],1] = x['Best_ch']\n",
        "\n",
        "      j = submitTask2.loc[submitTask2['Physician_ID'].str.contains(x['HCP'])].index\n",
        "      submitTask2.iat[i[0],1] = x['Max']\n",
        "\n",
        "      # submit.loc[submit['Physician_ID'].str.contains(x['HCP'])]['Channel'] = x['Best_ch']\n",
        "      # submitTask2.loc[submitTask2['Physician_ID'].str.contains(x['HCP'])]['Expected_TRx'] = x['Max']\n",
        "    elif s== 'SecondMax':\n",
        "      i = submit.loc[submit['Physician_ID'].str.contains(x['HCP'])].index\n",
        "      submit.iat[i[0],1] = x['SecondBest']\n",
        "\n",
        "      j = submitTask2.loc[submitTask2['Physician_ID'].str.contains(x['HCP'])].index\n",
        "      submitTask2.iat[i[0],1] = x['SecondMax']\n",
        "\n",
        "      # submit.loc[submit['Physician_ID'].str.contains(x['HCP'])]['Channel'] = x['SecondBest']\n",
        "      # submitTask2.loc[submitTask2['Physician_ID'].str.contains(x['HCP'])]['Expected_TRx'] = x['SecondMax']\n",
        "    else:\n",
        "      i = submit.loc[submit['Physician_ID'].str.contains(x['HCP'])].index\n",
        "      submit.iat[i[0],1] = x['ThirdBest']\n",
        "\n",
        "      j = submitTask2.loc[submitTask2['Physician_ID'].str.contains(x['HCP'])].index\n",
        "      submitTask2.iat[i[0],1] = x['ThirdMax']\n",
        "      # submit.loc[submit['Physician_ID'].str.contains(x['HCP'])]['Channel'] = x['ThirdBest']\n",
        "      # submitTask2.loc[submitTask2['Physician_ID'].str.contains(x['HCP'])]['Expected_TRx'] = x['ThirdMax']\n",
        "\n",
        "  else:\n",
        "    if(s == 'Max'):\n",
        "      return constraint_3(x,'SecondMax', True)\n",
        "    elif s == 'SecondMax':\n",
        "      return constraint_3(x,'ThirdMax', True)\n",
        "    else:\n",
        "      x['out'] = 'No'\n",
        "      return x\n",
        "  return x\n",
        "  "
      ],
      "metadata": {
        "id": "ZJBW0UYJcxL3"
      },
      "execution_count": null,
      "outputs": []
    },
    {
      "cell_type": "code",
      "source": [
        "constraint3 = final.apply(lambda x: constraint_3(x, 'Max', False), axis=1)"
      ],
      "metadata": {
        "id": "WF6dyt1IdQIX"
      },
      "execution_count": null,
      "outputs": []
    },
    {
      "cell_type": "markdown",
      "metadata": {
        "id": "c06y_7-KGkXR"
      },
      "source": [
        "### **Constraint 1**\n"
      ]
    },
    {
      "cell_type": "code",
      "source": [
        "''' For without importing '''\n",
        "# call_list = final.loc[(final[\"Best_ch\"] == 0 )]\n",
        "# HCP = list(call_list['HCP'])\n",
        "# D = data.groupby(['Physician_ID'])\n",
        "\n",
        "# for i in range(len(HCP)):\n",
        "\n",
        "#   sbc = final['SecondBest'].values[i] #Second Best Channel\n",
        "\n",
        "#   individual = D.get_group(str(HCP[i]))\n",
        "#   sum = individual['Sales_Rep_Calls'].sum()\n",
        "#   segment = int(individual['Physician_Segment'].unique())\n",
        "\n",
        "#   #Change values for those aplicable to the second best channel\n",
        "#   if segment == 3 and sum >= 12 :\n",
        "#     channel = sbc\n",
        "#   elif segment == 2 and sum >= 24 :\n",
        "#     channel = sbc\n",
        "#   elif segment == 1 and sum >= 48 :\n",
        "#     channel = sbc\n",
        "#   else:\n",
        "#     channel = 0\n",
        "#   temp = pd.DataFrame({'Physician_ID' : HCP[i] , 'Channel' : channel,},index=[0])\n",
        "#   submit = submit.append(temp)\n",
        "\n",
        "# print(submit)"
      ],
      "metadata": {
        "id": "VklnAuzR8S7-"
      },
      "execution_count": null,
      "outputs": []
    },
    {
      "cell_type": "code",
      "source": [
        "D = pd.DataFrame(data.groupby(['Physician_ID','Physician_Segment'], as_index = False).sum())\n",
        "D.head()"
      ],
      "metadata": {
        "id": "xnKI_wLnV_w8"
      },
      "execution_count": null,
      "outputs": []
    },
    {
      "cell_type": "code",
      "source": [
        "def constraint1(x):\n",
        "  x['Out'] = 'Yes'\n",
        "  if x['Best_ch'] == 0:\n",
        "    og_calls = D.loc[D['Physician_ID'] == x['HCP']]['Sales_Rep_Calls'].iat[-1]\n",
        "    total = og_calls + 1\n",
        "    segment = D.loc[D['Physician_ID'] == x['HCP']]['Physician_Segment'].iat[-1]\n",
        "\n",
        "    if (segment == 3 and total >= 12) or (segment == 2 and total >= 24) or (segment == 1 and total >= 48):\n",
        "      i = submit.loc[submit['Physician_ID'].str.contains(x['HCP'])].index\n",
        "      submit.iat[i[0],1] = x['SecondBest']\n",
        "      j = submitTask2.loc[submitTask2['Physician_ID'].str.contains(x['HCP'])].index\n",
        "      submitTask2.iat[i[0],1] = x['SecondMax']\n",
        "      # submitTask2.loc[submitTask2['Physician_ID'].str.contains(x['HCP'])]['Expected_TRx'] = x['SecondMax']\n",
        "      x['Out'] = 'No'\n",
        "    else:\n",
        "      x['Out'] = 'Yes'\n",
        "  return x"
      ],
      "metadata": {
        "id": "cTuxWGsKgiFy"
      },
      "execution_count": null,
      "outputs": []
    },
    {
      "cell_type": "code",
      "source": [
        "constraint1 = final.apply(lambda x: constraint1(x), axis=1)"
      ],
      "metadata": {
        "id": "QoNZglEqft06"
      },
      "execution_count": null,
      "outputs": []
    },
    {
      "cell_type": "code",
      "source": [
        "# call_list['Max'] = call_list[['Max', 'Sum','SecondMax']].apply(lambda x: x['SecondMax'] if x['Sum'] < 0 else x['Max'], axis=1)\n",
        "# call_list['Best_ch'] = call_list[['Best_ch', 'Sum','SecondBest']].apply(lambda x: x['SecondBest'] if x['Sum'] < 0 else x['Best_ch'], axis=1)\n",
        "# call_list.head()"
      ],
      "metadata": {
        "id": "2dwyiUdOio8i"
      },
      "execution_count": null,
      "outputs": []
    },
    {
      "cell_type": "markdown",
      "source": [
        "### **Constraint 2** "
      ],
      "metadata": {
        "id": "2NRzqGauClFN"
      }
    },
    {
      "cell_type": "code",
      "source": [
        "samples = final.loc[(final[\"Best_ch\"] == 1 )]\n",
        "count = samples['Best_ch'].count()\n",
        "count\n",
        "# HCP = list(samples['HCP'])\n",
        "# flag = 0\n",
        "\n",
        "# print('Total HCP for Samples : ' , count)\n",
        "# if count > (len(Physicians)//25):\n",
        "#   flag = 1\n",
        "\n",
        "# # Change values of those which are more than 25% to 2 ie email \n",
        "# if flag == 1 :\n",
        "#   for i in range((len(Physicians)//25)-1,len(Physicians)): \n",
        "#     samples['Best_ch'] = 2\n",
        "\n",
        "# temp = pd.DataFrame({'Physician_ID' : HCP , 'Channel' : samples['Best_ch'],})\n",
        "\n",
        "# submit = submit.append(temp)\n",
        "# print(submit)"
      ],
      "metadata": {
        "id": "RgslJM966qTI",
        "colab": {
          "base_uri": "https://localhost:8080/"
        },
        "outputId": "158893fb-4412-4818-bb1f-8e75601bfc46"
      },
      "execution_count": null,
      "outputs": [
        {
          "output_type": "execute_result",
          "data": {
            "text/plain": [
              "74"
            ]
          },
          "metadata": {},
          "execution_count": 209
        }
      ]
    },
    {
      "cell_type": "markdown",
      "source": [
        "## **Submit**"
      ],
      "metadata": {
        "id": "rHxhShKxK6HQ"
      }
    },
    {
      "cell_type": "code",
      "source": [
        "submitTask2 = pd.DataFrame({'Physician_ID' : final['HCP'] , 'Expected_TRx' : final['Max'],})"
      ],
      "metadata": {
        "id": "droKrNflNpcY"
      },
      "execution_count": null,
      "outputs": []
    },
    {
      "cell_type": "code",
      "source": [
        "submit"
      ],
      "metadata": {
        "id": "1zFZ7jNps7it"
      },
      "execution_count": null,
      "outputs": []
    },
    {
      "cell_type": "code",
      "source": [
        "submitTask2"
      ],
      "metadata": {
        "id": "VlkkyBE7EWmy"
      },
      "execution_count": null,
      "outputs": []
    },
    {
      "cell_type": "code",
      "source": [
        "submit.to_csv('submit.csv', encoding = 'utf-8-sig',index=False) \n",
        "files.download('submit.csv')"
      ],
      "metadata": {
        "id": "dq4Z11CzvV6m",
        "colab": {
          "base_uri": "https://localhost:8080/",
          "height": 17
        },
        "outputId": "074544a2-7f8e-45e1-b504-e368540f25d0"
      },
      "execution_count": null,
      "outputs": [
        {
          "output_type": "display_data",
          "data": {
            "text/plain": [
              "<IPython.core.display.Javascript object>"
            ],
            "application/javascript": [
              "\n",
              "    async function download(id, filename, size) {\n",
              "      if (!google.colab.kernel.accessAllowed) {\n",
              "        return;\n",
              "      }\n",
              "      const div = document.createElement('div');\n",
              "      const label = document.createElement('label');\n",
              "      label.textContent = `Downloading \"${filename}\": `;\n",
              "      div.appendChild(label);\n",
              "      const progress = document.createElement('progress');\n",
              "      progress.max = size;\n",
              "      div.appendChild(progress);\n",
              "      document.body.appendChild(div);\n",
              "\n",
              "      const buffers = [];\n",
              "      let downloaded = 0;\n",
              "\n",
              "      const channel = await google.colab.kernel.comms.open(id);\n",
              "      // Send a message to notify the kernel that we're ready.\n",
              "      channel.send({})\n",
              "\n",
              "      for await (const message of channel.messages) {\n",
              "        // Send a message to notify the kernel that we're ready.\n",
              "        channel.send({})\n",
              "        if (message.buffers) {\n",
              "          for (const buffer of message.buffers) {\n",
              "            buffers.push(buffer);\n",
              "            downloaded += buffer.byteLength;\n",
              "            progress.value = downloaded;\n",
              "          }\n",
              "        }\n",
              "      }\n",
              "      const blob = new Blob(buffers, {type: 'application/binary'});\n",
              "      const a = document.createElement('a');\n",
              "      a.href = window.URL.createObjectURL(blob);\n",
              "      a.download = filename;\n",
              "      div.appendChild(a);\n",
              "      a.click();\n",
              "      div.remove();\n",
              "    }\n",
              "  "
            ]
          },
          "metadata": {}
        },
        {
          "output_type": "display_data",
          "data": {
            "text/plain": [
              "<IPython.core.display.Javascript object>"
            ],
            "application/javascript": [
              "download(\"download_9c9e988e-6320-4ef0-9850-07220f7c6c8a\", \"submit.csv\", 110024)"
            ]
          },
          "metadata": {}
        }
      ]
    },
    {
      "cell_type": "code",
      "source": [
        "submitTask2.to_csv('submitTask2.csv', encoding = 'utf-8-sig',index=False) \n",
        "files.download('submitTask2.csv')"
      ],
      "metadata": {
        "colab": {
          "base_uri": "https://localhost:8080/",
          "height": 17
        },
        "id": "DBx0zjb5vmv9",
        "outputId": "e15a2239-3338-44c9-e85e-febb37020d2e"
      },
      "execution_count": null,
      "outputs": [
        {
          "output_type": "display_data",
          "data": {
            "text/plain": [
              "<IPython.core.display.Javascript object>"
            ],
            "application/javascript": [
              "\n",
              "    async function download(id, filename, size) {\n",
              "      if (!google.colab.kernel.accessAllowed) {\n",
              "        return;\n",
              "      }\n",
              "      const div = document.createElement('div');\n",
              "      const label = document.createElement('label');\n",
              "      label.textContent = `Downloading \"${filename}\": `;\n",
              "      div.appendChild(label);\n",
              "      const progress = document.createElement('progress');\n",
              "      progress.max = size;\n",
              "      div.appendChild(progress);\n",
              "      document.body.appendChild(div);\n",
              "\n",
              "      const buffers = [];\n",
              "      let downloaded = 0;\n",
              "\n",
              "      const channel = await google.colab.kernel.comms.open(id);\n",
              "      // Send a message to notify the kernel that we're ready.\n",
              "      channel.send({})\n",
              "\n",
              "      for await (const message of channel.messages) {\n",
              "        // Send a message to notify the kernel that we're ready.\n",
              "        channel.send({})\n",
              "        if (message.buffers) {\n",
              "          for (const buffer of message.buffers) {\n",
              "            buffers.push(buffer);\n",
              "            downloaded += buffer.byteLength;\n",
              "            progress.value = downloaded;\n",
              "          }\n",
              "        }\n",
              "      }\n",
              "      const blob = new Blob(buffers, {type: 'application/binary'});\n",
              "      const a = document.createElement('a');\n",
              "      a.href = window.URL.createObjectURL(blob);\n",
              "      a.download = filename;\n",
              "      div.appendChild(a);\n",
              "      a.click();\n",
              "      div.remove();\n",
              "    }\n",
              "  "
            ]
          },
          "metadata": {}
        },
        {
          "output_type": "display_data",
          "data": {
            "text/plain": [
              "<IPython.core.display.Javascript object>"
            ],
            "application/javascript": [
              "download(\"download_16058d1c-b07d-4a88-8c8f-c9c32ff6503a\", \"submitTask2.csv\", 228794)"
            ]
          },
          "metadata": {}
        }
      ]
    }
  ],
  "metadata": {
    "colab": {
      "provenance": [],
      "collapsed_sections": [
        "0fbbKqPixApj",
        "zpNnj2fdxTji"
      ],
      "include_colab_link": true
    },
    "kernelspec": {
      "display_name": "Python 3",
      "name": "python3"
    },
    "language_info": {
      "name": "python"
    },
    "gpuClass": "standard"
  },
  "nbformat": 4,
  "nbformat_minor": 0
}